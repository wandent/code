{
  "cells": [
    {
      "cell_type": "code",
      "source": [
        "# The script MUST contain a function named azureml_main\r\n",
        "# which is the entry point for this module.\r\n",
        "\r\n",
        "# imports up here can be used to\r\n",
        "import pandas as pd\r\n",
        "from sklearn.datasets import load_diabetes\r\n",
        "from sklearn.linear_model import Ridge\r\n",
        "from sklearn.metrics import mean_squared_error\r\n",
        "from sklearn.model_selection import train_test_split\r\n",
        "from azureml.core.run import Run\r\n",
        "import os\r\n",
        "import numpy as np\r\n",
        "from sklearn import __version__ as sklearnver\r\n",
        "from packaging.version import Version\r\n",
        "if Version(sklearnver) < Version(\"0.23.0\"):\r\n",
        "    from sklearn.externals import joblib\r\n",
        "else:\r\n",
        "    import joblib\r\n",
        "\r\n",
        "# The entry point function MUST have two input arguments.\r\n",
        "# If the input port is not connected, the corresponding\r\n",
        "# dataframe argument will be None.\r\n",
        "#   Param<dataframe1>: a pandas.DataFrame\r\n",
        "#   Param<dataframe2>: a pandas.DataFrame\r\n",
        "\r\n",
        "#def azureml_main(dataframe1 = None, dataframe2 = None):\r\n",
        "# Copyright (c) Microsoft. All rights reserved.\r\n",
        "# Licensed under the MIT license.\r\n",
        "\r\n",
        "\r\n",
        "\r\n",
        "\r\n",
        "os.makedirs('./outputs', exist_ok=True)\r\n",
        "\r\n",
        "X, y = load_diabetes(return_X_y=True)\r\n",
        "\r\n",
        "run = Run.get_context()\r\n",
        "\r\n",
        "X_train, X_test, y_train, y_test = train_test_split(X, y, test_size=0.2, random_state=0)\r\n",
        "data = {\"train\": {\"X\": X_train, \"y\": y_train}, \"test\": {\"X\": X_test, \"y\": y_test}}\r\n",
        "\r\n",
        "# list of numbers from 0.0 to 1.0 with a 0.05 interval\r\n",
        "alphas = np.arange(0.0, 1.0, 0.05)\r\n",
        "\r\n",
        "for alpha in alphas:\r\n",
        "    # Use Ridge algorithm to create a regression model\r\n",
        "    reg = Ridge(alpha=alpha)\r\n",
        "    reg.fit(data[\"train\"][\"X\"], data[\"train\"][\"y\"])\r\n",
        "\r\n",
        "    preds = reg.predict(data[\"test\"][\"X\"])\r\n",
        "    mse = mean_squared_error(preds, data[\"test\"][\"y\"])\r\n",
        "    run.log('alpha', alpha)\r\n",
        "    run.log('mse', mse)\r\n",
        "\r\n",
        "    model_file_name = 'ridge_{0:.2f}.pkl'.format(alpha)\r\n",
        "    # save model in the outputs folder so it automatically get uploaded\r\n",
        "    with open(model_file_name, \"wb\") as file:\r\n",
        "        joblib.dump(value=reg, filename=os.path.join('./outputs/', model_file_name))\r\n",
        "\r\n",
        "    print('alpha is {0:.2f}, and mse is {1:0.2f}'.format(alpha, mse))\r\n",
        "\r\n",
        "  \r\n",
        "#return dataframe1\r\n"
      ],
      "outputs": [
        {
          "output_type": "stream",
          "name": "stdout",
          "text": "Attempted to log scalar metric alpha:\n0.0\nAttempted to log scalar metric mse:\n3424.3166882137343\nalpha is 0.00, and mse is 3424.32\nAttempted to log scalar metric alpha:\n0.05\nAttempted to log scalar metric mse:\n3408.9153122589296\nalpha is 0.05, and mse is 3408.92\nAttempted to log scalar metric alpha:\n0.1\nAttempted to log scalar metric mse:\n3372.649627810032\nalpha is 0.10, and mse is 3372.65\nAttempted to log scalar metric alpha:\n0.15000000000000002\nAttempted to log scalar metric mse:\n3345.1496434741894\nalpha is 0.15, and mse is 3345.15\nAttempted to log scalar metric alpha:\n0.2\nAttempted to log scalar metric mse:\n3325.2946794678764\nalpha is 0.20, and mse is 3325.29\nAttempted to log scalar metric alpha:\n0.25\nAttempted to log scalar metric mse:\n3311.5562509289744\nalpha is 0.25, and mse is 3311.56\nAttempted to log scalar metric alpha:\n0.30000000000000004\nAttempted to log scalar metric mse:\n3302.6736334017255\nalpha is 0.30, and mse is 3302.67\nAttempted to log scalar metric alpha:\n0.35000000000000003\nAttempted to log scalar metric mse:\n3297.658733944204\nalpha is 0.35, and mse is 3297.66\nAttempted to log scalar metric alpha:\n0.4\nAttempted to log scalar metric mse:\n3295.741064355809\nalpha is 0.40, and mse is 3295.74\nAttempted to log scalar metric alpha:\n0.45\nAttempted to log scalar metric mse:\n3296.316884705675\nalpha is 0.45, and mse is 3296.32\nAttempted to log scalar metric alpha:\n0.5\nAttempted to log scalar metric mse:\n3298.9096058070622\nalpha is 0.50, and mse is 3298.91\nAttempted to log scalar metric alpha:\n0.55\nAttempted to log scalar metric mse:\n3303.1400555275163\nalpha is 0.55, and mse is 3303.14\nAttempted to log scalar metric alpha:\n0.6000000000000001\nAttempted to log scalar metric mse:\n3308.7042707723226\nalpha is 0.60, and mse is 3308.70\nAttempted to log scalar metric alpha:\n0.65\nAttempted to log scalar metric mse:\n3315.3568399622563\nalpha is 0.65, and mse is 3315.36\nAttempted to log scalar metric alpha:\n0.7000000000000001\nAttempted to log scalar metric mse:\n3322.8983149039614\nalpha is 0.70, and mse is 3322.90\nAttempted to log scalar metric alpha:\n0.75\nAttempted to log scalar metric mse:\n3331.1656169285875\nalpha is 0.75, and mse is 3331.17\nAttempted to log scalar metric alpha:\n0.8\nAttempted to log scalar metric mse:\n3340.0246620321604\nalpha is 0.80, and mse is 3340.02\nAttempted to log scalar metric alpha:\n0.8500000000000001\nAttempted to log scalar metric mse:\n3349.3646443486023\nalpha is 0.85, and mse is 3349.36\nAttempted to log scalar metric alpha:\n0.9\nAttempted to log scalar metric mse:\n3359.0935697484424\nalpha is 0.90, and mse is 3359.09\nAttempted to log scalar metric alpha:\n0.9500000000000001\nAttempted to log scalar metric mse:\n3369.1347399130477\nalpha is 0.95, and mse is 3369.13\n"
        }
      ],
      "execution_count": 3,
      "metadata": {
        "gather": {
          "logged": 1643806142500
        }
      }
    },
    {
      "cell_type": "code",
      "source": [],
      "outputs": [],
      "execution_count": null,
      "metadata": {
        "jupyter": {
          "source_hidden": false,
          "outputs_hidden": false
        },
        "nteract": {
          "transient": {
            "deleting": false
          }
        }
      }
    }
  ],
  "metadata": {
    "kernelspec": {
      "name": "python3-azureml",
      "language": "python",
      "display_name": "Python 3.6 - AzureML"
    },
    "language_info": {
      "name": "python",
      "version": "3.6.9",
      "mimetype": "text/x-python",
      "codemirror_mode": {
        "name": "ipython",
        "version": 3
      },
      "pygments_lexer": "ipython3",
      "nbconvert_exporter": "python",
      "file_extension": ".py"
    },
    "kernel_info": {
      "name": "python3-azureml"
    },
    "nteract": {
      "version": "nteract-front-end@1.0.0"
    },
    "microsoft": {
      "host": {
        "AzureML": {
          "notebookHasBeenCompleted": true
        }
      }
    }
  },
  "nbformat": 4,
  "nbformat_minor": 0
}