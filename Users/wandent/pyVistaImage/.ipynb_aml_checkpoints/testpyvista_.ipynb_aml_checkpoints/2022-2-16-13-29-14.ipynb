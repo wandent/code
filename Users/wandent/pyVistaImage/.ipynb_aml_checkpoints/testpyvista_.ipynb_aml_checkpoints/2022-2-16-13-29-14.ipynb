{
  "cells": [
    {
      "cell_type": "code",
      "source": [
        " # if required this app to buffer the results and send back to notebook\n",
        " #!sudo apt install libgl1-mesa-glx xvfb"
      ],
      "outputs": [],
      "execution_count": null,
      "metadata": {
        "collapsed": true
      }
    },
    {
      "cell_type": "code",
      "source": [
        "#!conda activate azureml_py38_PT_TF\n",
        "!conda install -c conda-forge vtk -n azureml_py38_PT_TF -y\n",
        "!conda install -c conda-forge pyvista -n azureml_py38_PT_TF -y\n",
        "!conda install -c conda-forge ipyvtklink -n azureml_py38_PT_TF -y\n",
        "!conda install -c conda-forge meshio -n azureml_py38_PT_TF -y"
      ],
      "outputs": [
        {
          "output_type": "stream",
          "name": "stdout",
          "text": "Collecting package metadata (current_repodata.json): done\nSolving environment: done\n\n# All requested packages already installed.\n\nCollecting package metadata (current_repodata.json): done\nSolving environment: done\n\n# All requested packages already installed.\n\nCollecting package metadata (current_repodata.json): done\nSolving environment: done\n\n# All requested packages already installed.\n\nCollecting package metadata (current_repodata.json): done\nSolving environment: done\n\n# All requested packages already installed.\n\n"
        }
      ],
      "execution_count": 5,
      "metadata": {
        "gather": {
          "logged": 1647024191824
        },
        "jupyter": {
          "outputs_hidden": false,
          "source_hidden": false
        },
        "nteract": {
          "transient": {
            "deleting": false
          }
        }
      }
    },
    {
      "cell_type": "code",
      "source": [
        "!pip install azureml-widgets\n"
      ],
      "outputs": [],
      "execution_count": null,
      "metadata": {
        "jupyter": {
          "source_hidden": false,
          "outputs_hidden": false
        },
        "nteract": {
          "transient": {
            "deleting": false
          }
        }
      }
    },
    {
      "cell_type": "code",
      "source": [
        "# All PyVista Samples here: https://docs.pyvista.org/examples/\n",
        "# Draw a uniform grid\n",
        "import pyvista as pv\n",
        "import numpy as np\n",
        "pv.start_xvfb()\n",
        "values = np.linspace(0, 10, 1000).reshape((20, 5, 10))\n",
        "values.shape\n",
        "\n",
        "# Create the spatial reference\n",
        "grid = pv.UniformGrid()\n",
        "\n",
        "# Set the grid dimensions: shape + 1 because we want to inject our values on\n",
        "#   the CELL data\n",
        "grid.dimensions = np.array(values.shape) + 1\n",
        "\n",
        "# Edit the spatial reference\n",
        "grid.origin = (100, 33, 55.6)  # The bottom left corner of the data set\n",
        "grid.spacing = (1, 5, 2)  # These are the cell sizes along each axis\n",
        "\n",
        "# Add the data values to the cell data\n",
        "grid.cell_data[\"values\"] = values.flatten(order=\"F\")  # Flatten the array!\n",
        "\n",
        "# Now plot the grid!\n",
        "grid.plot(show_edges=True)"
      ],
      "outputs": [],
      "execution_count": null,
      "metadata": {
        "gather": {
          "logged": 1647021894175
        },
        "jupyter": {
          "outputs_hidden": false,
          "source_hidden": false
        },
        "nteract": {
          "transient": {
            "deleting": false
          }
        }
      }
    },
    {
      "cell_type": "code",
      "source": [
        "# Terrain mesh\n",
        "import numpy as np\n",
        "\n",
        "# sphinx_gallery_thumbnail_number = 3\n",
        "import pyvista as pv\n",
        "from pyvista import examples"
      ],
      "outputs": [],
      "execution_count": 7,
      "metadata": {}
    },
    {
      "cell_type": "code",
      "source": [
        "dem = examples.download_crater_topo()\n",
        "dem\n"
      ],
      "outputs": [
        {
          "output_type": "execute_result",
          "execution_count": 8,
          "data": {
            "text/html": "<table><tr><th>Header</th><th>Data Arrays</th></tr><tr><td>\n<table>\n<tr><th>UniformGrid</th><th>Information</th></tr>\n<tr><td>N Cells</td><td>1677401</td></tr>\n<tr><td>N Points</td><td>1680000</td></tr>\n<tr><td>X Bounds</td><td>1.810e+06, 1.831e+06</td></tr>\n<tr><td>Y Bounds</td><td>5.640e+06, 5.658e+06</td></tr>\n<tr><td>Z Bounds</td><td>0.000e+00, 0.000e+00</td></tr>\n<tr><td>Dimensions</td><td>1400, 1200, 1</td></tr>\n<tr><td>Spacing</td><td>1.500e+01, 1.500e+01, 0.000e+00</td></tr>\n<tr><td>N Arrays</td><td>1</td></tr>\n</table>\n\n</td><td>\n<table>\n<tr><th>Name</th><th>Field</th><th>Type</th><th>N Comp</th><th>Min</th><th>Max</th></tr>\n<tr><td><b>scalar1of1</b></td><td>Points</td><td>float64</td><td>1</td><td>7.339e+02</td><td>2.787e+03</td></tr>\n</table>\n\n</td></tr> </table>",
            "text/plain": "UniformGrid (0x7f1eb406f3a0)\n  N Cells:\t1677401\n  N Points:\t1680000\n  X Bounds:\t1.810e+06, 1.831e+06\n  Y Bounds:\t5.640e+06, 5.658e+06\n  Z Bounds:\t0.000e+00, 0.000e+00\n  Dimensions:\t1400, 1200, 1\n  Spacing:\t1.500e+01, 1.500e+01, 0.000e+00\n  N Arrays:\t1"
          },
          "metadata": {}
        }
      ],
      "execution_count": 8,
      "metadata": {}
    },
    {
      "cell_type": "code",
      "source": [
        "subset = dem.extract_subset((500, 900, 400, 800, 0, 0), (5,5,1))\n",
        "subset.plot(cpos=\"xy\")"
      ],
      "outputs": [
        {
          "output_type": "display_data",
          "data": {
            "application/vnd.jupyter.widget-view+json": {
              "model_id": "206e8fb0adea4d1aadcfacba643b0013",
              "version_major": 2,
              "version_minor": 0
            },
            "text/plain": "ViewInteractiveWidget(height=768, layout=Layout(height='auto', width='100%'), width=1024)"
          },
          "metadata": {}
        }
      ],
      "execution_count": 9,
      "metadata": {}
    },
    {
      "cell_type": "code",
      "source": [
        "terrain = subset.warp_by_scalar()\n",
        "terrain\n",
        "terrain.plot()"
      ],
      "outputs": [
        {
          "output_type": "display_data",
          "data": {
            "application/vnd.jupyter.widget-view+json": {
              "model_id": "813e7c46507941a5b0b10b0677030ff2",
              "version_major": 2,
              "version_minor": 0
            },
            "text/plain": "ViewInteractiveWidget(height=768, layout=Layout(height='auto', width='100%'), width=1024)"
          },
          "metadata": {}
        }
      ],
      "execution_count": 10,
      "metadata": {}
    },
    {
      "cell_type": "code",
      "source": [
        "# sphinx_gallery_thumbnail_number = 2\n",
        "import pyvista as pv\n",
        "from pyvista import examples\n",
        "\n",
        "# Load St Helens DEM and warp the topography\n",
        "image = examples.download_st_helens()\n",
        "mesh = image.warp_by_scalar()"
      ],
      "outputs": [],
      "execution_count": 11,
      "metadata": {}
    },
    {
      "cell_type": "code",
      "source": [
        "p = pv.Plotter()\n",
        "p.add_mesh(image.contour(), line_width=5,)\n",
        "p.add_mesh(mesh, opacity=0.85, color=True)\n",
        "p.show()"
      ],
      "outputs": [
        {
          "output_type": "display_data",
          "data": {
            "application/vnd.jupyter.widget-view+json": {
              "model_id": "1b81cd2daee24580a15e0e02f719cb74",
              "version_major": 2,
              "version_minor": 0
            },
            "text/plain": "ViewInteractiveWidget(height=768, layout=Layout(height='auto', width='100%'), width=1024)"
          },
          "metadata": {}
        }
      ],
      "execution_count": 12,
      "metadata": {}
    },
    {
      "cell_type": "code",
      "source": [
        "mesh.plot(opacity=\"linear\")\n"
      ],
      "outputs": [
        {
          "output_type": "display_data",
          "data": {
            "application/vnd.jupyter.widget-view+json": {
              "model_id": "a493a8a04262467e90f71e61d7df5fe5",
              "version_major": 2,
              "version_minor": 0
            },
            "text/plain": "ViewInteractiveWidget(height=768, layout=Layout(height='auto', width='100%'), width=1024)"
          },
          "metadata": {}
        }
      ],
      "execution_count": 13,
      "metadata": {}
    },
    {
      "cell_type": "code",
      "source": [
        "# formats that we can read data\n",
        "# https://docs.pyvista.org/api/utilities/_autosummary/pyvista.read.html?highlight=meshio#\n",
        "\n",
        "# mesh :\"https://github.com/nschloe/meshio\n",
        "# pv.read()\n"
      ],
      "outputs": [],
      "execution_count": null,
      "metadata": {
        "collapsed": true
      }
    }
  ],
  "metadata": {
    "kernel_info": {
      "name": "azureml_py38_pt_tf"
    },
    "kernelspec": {
      "display_name": "Python 3.8 - Pytorch and Tensorflow",
      "language": "python",
      "name": "azureml_py38_pt_tf"
    },
    "language_info": {
      "codemirror_mode": {
        "name": "ipython",
        "version": 3
      },
      "file_extension": ".py",
      "mimetype": "text/x-python",
      "name": "python",
      "nbconvert_exporter": "python",
      "pygments_lexer": "ipython3",
      "version": "3.8.1"
    },
    "nteract": {
      "version": "nteract-front-end@1.0.0"
    }
  },
  "nbformat": 4,
  "nbformat_minor": 0
}