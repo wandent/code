{
 "cells": [
  {
   "cell_type": "code",
   "execution_count": 5,
   "metadata": {
    "gather": {
     "logged": 1647023970166
    }
   },
   "outputs": [
    {
     "name": "stdout",
     "output_type": "stream",
     "text": [
      "usage: conda install [-h] [--revision REVISION] [-n ENVIRONMENT | -p PATH]\r\n",
      "                     [-c CHANNEL] [--use-local] [--override-channels]\r\n",
      "                     [--repodata-fn REPODATA_FNS] [--strict-channel-priority]\r\n",
      "                     [--no-channel-priority] [--no-deps | --only-deps]\r\n",
      "                     [--no-pin] [--copy] [-C] [-k] [--offline] [-d] [--json]\r\n",
      "                     [-q] [-v] [-y] [--download-only] [--show-channel-urls]\r\n",
      "                     [--file FILE] [--force-reinstall]\r\n",
      "                     [--freeze-installed | --update-deps | -S | --update-all | --update-specs]\r\n",
      "                     [-m] [--clobber] [--dev]\r\n",
      "                     [package_spec ...]\r\n",
      "\r\n",
      "Installs a list of packages into a specified conda environment.\r\n",
      "\r\n",
      "    This command accepts a list of package specifications (e.g, bitarray=0.8)\r\n",
      "    and installs a set of packages consistent with those specifications and\r\n",
      "    compatible with the underlying environment. If full compatibility cannot\r\n",
      "    be assured, an error is reported and the environment is not changed.\r\n",
      "\r\n",
      "    Conda attempts to install the newest versions of the requested packages. To\r\n",
      "    accomplish this, it may update some packages that are already installed, or\r\n",
      "    install additional packages. To prevent existing packages from updating,\r\n",
      "    use the --freeze-installed option. This may force conda to install older\r\n",
      "    versions of the requested packages, and it does not prevent additional\r\n",
      "    dependency packages from being installed.\r\n",
      "\r\n",
      "    If you wish to skip dependency checking altogether, use the '--no-deps'\r\n",
      "    option. This may result in an environment with incompatible packages, so\r\n",
      "    this option must be used with great caution.\r\n",
      "\r\n",
      "    conda can also be called with a list of explicit conda package filenames\r\n",
      "    (e.g. ./lxml-3.2.0-py27_0.tar.bz2). Using conda in this mode implies the\r\n",
      "    --no-deps option, and should likewise be used with great caution. Explicit\r\n",
      "    filenames and package specifications cannot be mixed in a single command.\r\n",
      "\r\n",
      "Options:\r\n",
      "\r\n",
      "positional arguments:\r\n",
      "  package_spec          Packages to install or update in the conda\r\n",
      "                        environment.\r\n",
      "\r\n",
      "optional arguments:\r\n",
      "  -h, --help            Show this help message and exit.\r\n",
      "  --revision REVISION   Revert to the specified REVISION.\r\n",
      "  --file FILE           Read package versions from the given file. Repeated\r\n",
      "                        file specifications can be passed (e.g. --file=file1\r\n",
      "                        --file=file2).\r\n",
      "  --dev                 Use `sys.executable -m conda` in wrapper scripts\r\n",
      "                        instead of CONDA_EXE. This is mainly for use during\r\n",
      "                        tests where we test new conda source against old\r\n",
      "                        Python versions.\r\n",
      "\r\n",
      "Target Environment Specification:\r\n",
      "  -n ENVIRONMENT, --name ENVIRONMENT\r\n",
      "                        Name of environment.\r\n",
      "  -p PATH, --prefix PATH\r\n",
      "                        Full path to environment location (i.e. prefix).\r\n",
      "\r\n",
      "Channel Customization:\r\n",
      "  -c CHANNEL, --channel CHANNEL\r\n",
      "                        Additional channel to search for packages. These are\r\n",
      "                        URLs searched in the order they are given (including\r\n",
      "                        local directories using the 'file://' syntax or simply\r\n",
      "                        a path like '/home/conda/mychan' or '../mychan').\r\n",
      "                        Then, the defaults or channels from .condarc are\r\n",
      "                        searched (unless --override-channels is given). You\r\n",
      "                        can use 'defaults' to get the default packages for\r\n",
      "                        conda. You can also use any name and the .condarc\r\n",
      "                        channel_alias value will be prepended. The default\r\n",
      "                        channel_alias is http://conda.anaconda.org/.\r\n",
      "  --use-local           Use locally built packages. Identical to '-c local'.\r\n",
      "  --override-channels   Do not search default or .condarc channels. Requires\r\n",
      "                        --channel.\r\n",
      "  --repodata-fn REPODATA_FNS\r\n",
      "                        Specify name of repodata on remote server. Conda will\r\n",
      "                        try whatever you specify, but will ultimately fall\r\n",
      "                        back to repodata.json if your specs are not\r\n",
      "                        satisfiable with what you specify here. This is used\r\n",
      "                        to employ repodata that is reduced in time scope. You\r\n",
      "                        may pass this flag more than once. Leftmost entries\r\n",
      "                        are tried first, and the fallback to repodata.json is\r\n",
      "                        added for you automatically.\r\n",
      "\r\n",
      "Solver Mode Modifiers:\r\n",
      "  --strict-channel-priority\r\n",
      "                        Packages in lower priority channels are not considered\r\n",
      "                        if a package with the same name appears in a higher\r\n",
      "                        priority channel.\r\n",
      "  --no-channel-priority\r\n",
      "                        Package version takes precedence over channel\r\n",
      "                        priority. Overrides the value given by `conda config\r\n",
      "                        --show channel_priority`.\r\n",
      "  --no-deps             Do not install, update, remove, or change\r\n",
      "                        dependencies. This WILL lead to broken environments\r\n",
      "                        and inconsistent behavior. Use at your own risk.\r\n",
      "  --only-deps           Only install dependencies.\r\n",
      "  --no-pin              Ignore pinned file.\r\n",
      "  --force-reinstall     Ensure that any user-requested package for the current\r\n",
      "                        operation is uninstalled and reinstalled, even if that\r\n",
      "                        package already exists in the environment.\r\n",
      "  --freeze-installed, --no-update-deps\r\n",
      "                        Do not update or change already-installed\r\n",
      "                        dependencies.\r\n",
      "  --update-deps         Update dependencies.\r\n",
      "  -S, --satisfied-skip-solve\r\n",
      "                        Exit early and do not run the solver if the requested\r\n",
      "                        specs are satisfied. Also skips aggressive updates as\r\n",
      "                        configured by 'aggressive_update_packages'. Similar to\r\n",
      "                        the default behavior of 'pip install'.\r\n",
      "  --update-all, --all   Update all installed packages in the environment.\r\n",
      "  --update-specs        Update based on provided specifications.\r\n",
      "\r\n",
      "Package Linking and Install-time Options:\r\n",
      "  --copy                Install all packages using copies instead of hard- or\r\n",
      "                        soft-linking.\r\n",
      "  -m, --mkdir           Create the environment directory if necessary.\r\n",
      "  --clobber             Allow clobbering of overlapping file paths within\r\n",
      "                        packages, and suppress related warnings.\r\n",
      "\r\n",
      "Networking Options:\r\n",
      "  -C, --use-index-cache\r\n",
      "                        Use cache of channel index files, even if it has\r\n",
      "                        expired.\r\n",
      "  -k, --insecure        Allow conda to perform \"insecure\" SSL connections and\r\n",
      "                        transfers. Equivalent to setting 'ssl_verify' to\r\n",
      "                        'false'.\r\n",
      "  --offline             Offline mode. Don't connect to the Internet.\r\n",
      "\r\n",
      "Output, Prompt, and Flow Control Options:\r\n",
      "  -d, --dry-run         Only display what would have been done.\r\n",
      "  --json                Report all output as json. Suitable for using conda\r\n",
      "                        programmatically.\r\n",
      "  -q, --quiet           Do not display progress bar.\r\n",
      "  -v, --verbose         Can be used multiple times. Once for INFO, twice for\r\n",
      "                        DEBUG, three times for TRACE.\r\n",
      "  -y, --yes             Do not ask for confirmation.\r\n",
      "  --download-only       Solve an environment and ensure package caches are\r\n",
      "                        populated, but exit prior to unlinking and linking\r\n",
      "                        packages into the prefix.\r\n",
      "  --show-channel-urls   Show channel urls. Overrides the value given by `conda\r\n",
      "                        config --show show_channel_urls`.\r\n",
      "\r\n",
      "Examples:\r\n",
      "\r\n",
      "    conda install -n myenv scipy\r\n"
     ]
    }
   ],
   "source": [
    "#!conda init --all\n",
    "!conda install --help\n",
    "\n"
   ]
  },
  {
   "cell_type": "code",
   "execution_count": 10,
   "metadata": {},
   "outputs": [
    {
     "name": "stdout",
     "output_type": "stream",
     "text": [
      "Reading package lists... Done\n",
      "Building dependency tree       \n",
      "Reading state information... Done\n",
      "libgl1-mesa-glx is already the newest version (20.0.8-0ubuntu1~18.04.1).\n",
      "xvfb is already the newest version (2:1.19.6-1ubuntu4.10).\n",
      "The following packages were automatically installed and are no longer required:\n",
      "  ca-certificates-java cmake-data cuda-command-line-tools-11-2\n",
      "  cuda-compiler-11-2 cuda-cudart-11-2 cuda-cudart-dev-11-2 cuda-cuobjdump-11-2\n",
      "  cuda-cupti-11-2 cuda-cupti-dev-11-2 cuda-cuxxfilt-11-2\n",
      "  cuda-documentation-11-2 cuda-driver-dev-11-2 cuda-gdb-11-2\n",
      "  cuda-libraries-11-2 cuda-libraries-dev-11-2 cuda-memcheck-11-2\n",
      "  cuda-nsight-11-2 cuda-nsight-compute-11-2 cuda-nsight-systems-11-2\n",
      "  cuda-nvcc-11-2 cuda-nvdisasm-11-2 cuda-nvml-dev-11-2 cuda-nvprof-11-2\n",
      "  cuda-nvprune-11-2 cuda-nvrtc-11-2 cuda-nvrtc-dev-11-2 cuda-nvtx-11-2\n",
      "  cuda-nvvp-11-2 cuda-samples-11-2 cuda-sanitizer-11-2 cuda-toolkit-11-2\n",
      "  cuda-tools-11-2 cuda-visual-tools-11-2 default-jre default-jre-headless\n",
      "  fonts-dejavu-extra gyp java-common javascript-common libarchive13 libasound2\n",
      "  libasound2-data libatk-wrapper-java libatk-wrapper-java-jni libc-ares2\n",
      "  libcublas-11-2 libcublas-dev-11-2 libcufft-11-2 libcufft-dev-11-2\n",
      "  libcurand-11-2 libcurand-dev-11-2 libcusolver-11-2 libcusolver-dev-11-2\n",
      "  libcusparse-11-2 libcusparse-dev-11-2 libjs-async libjs-inherits\n",
      "  libjs-jquery libjs-node-uuid libjs-underscore libjsoncpp1 libnpp-11-2\n",
      "  libnpp-dev-11-2 libnspr4 libnss3 libnvidia-common-510 libnvjpeg-11-2\n",
      "  libnvjpeg-dev-11-2 libpcsclite1 librhash0 libuv1-dev\n",
      "  linux-headers-4.15.0-166 node-abbrev node-ansi node-ansi-color-table\n",
      "  node-archy node-async node-balanced-match node-block-stream\n",
      "  node-brace-expansion node-builtin-modules node-combined-stream\n",
      "  node-concat-map node-cookie-jar node-delayed-stream node-forever-agent\n",
      "  node-form-data node-fs.realpath node-fstream node-fstream-ignore\n",
      "  node-github-url-from-git node-glob node-graceful-fs node-hosted-git-info\n",
      "  node-inflight node-inherits node-ini node-is-builtin-module node-isexe\n",
      "  node-json-stringify-safe node-lockfile node-lru-cache node-mime\n",
      "  node-minimatch node-mkdirp node-mute-stream node-node-uuid node-nopt\n",
      "  node-normalize-package-data node-npmlog node-once node-osenv\n",
      "  node-path-is-absolute node-pseudomap node-qs node-read\n",
      "  node-read-package-json node-request node-retry node-rimraf node-semver\n",
      "  node-sha node-slide node-spdx-correct node-spdx-expression-parse\n",
      "  node-spdx-license-ids node-tar node-tunnel-agent node-underscore\n",
      "  node-validate-npm-package-license node-which node-wrappy node-yallist\n",
      "  nsight-compute-2020.3.1 nsight-systems-2020.4.3 openjdk-11-jre\n",
      "  openjdk-11-jre-headless python-pkg-resources\n",
      "Use 'sudo apt autoremove' to remove them.\n",
      "0 upgraded, 0 newly installed, 0 to remove and 44 not upgraded.\n"
     ]
    }
   ],
   "source": [
    " !sudo apt install libgl1-mesa-glx xvfb"
   ]
  },
  {
   "cell_type": "code",
   "execution_count": 26,
   "metadata": {
    "gather": {
     "logged": 1647024191824
    },
    "jupyter": {
     "outputs_hidden": false,
     "source_hidden": false
    },
    "nteract": {
     "transient": {
      "deleting": false
     }
    }
   },
   "outputs": [
    {
     "name": "stdout",
     "output_type": "stream",
     "text": [
      "Collecting package metadata (current_repodata.json): done\n",
      "Solving environment: done\n",
      "\n",
      "# All requested packages already installed.\n",
      "\n",
      "Collecting package metadata (current_repodata.json): done\n",
      "Solving environment: done\n",
      "\n",
      "# All requested packages already installed.\n",
      "\n",
      "Collecting package metadata (current_repodata.json): done\n",
      "Solving environment: done\n",
      "\n",
      "# All requested packages already installed.\n",
      "\n",
      "Collecting package metadata (current_repodata.json): done\n",
      "Solving environment: failed with initial frozen solve. Retrying with flexible solve.\n",
      "Solving environment: failed with repodata from current_repodata.json, will retry with next repodata source.\n",
      "Collecting package metadata (repodata.json): done\n",
      "Solving environment: done\n",
      "\n",
      "## Package Plan ##\n",
      "\n",
      "  environment location: /anaconda/envs/azureml_py38_PT_TF\n",
      "\n",
      "  added / updated specs:\n",
      "    - meshio\n",
      "\n",
      "\n",
      "The following packages will be downloaded:\n",
      "\n",
      "    package                    |            build\n",
      "    ---------------------------|-----------------\n",
      "    cached-property-1.5.2      |       hd8ed1ab_1           4 KB  conda-forge\n",
      "    cached_property-1.5.2      |     pyha770c72_1          11 KB  conda-forge\n",
      "    cftime-1.6.0               |   py38h3ec907f_0         226 KB  conda-forge\n",
      "    colorama-0.4.4             |     pyh9f0ad1d_0          18 KB  conda-forge\n",
      "    commonmark-0.9.1           |             py_0          46 KB  conda-forge\n",
      "    dataclasses-0.8            |     pyhc8e2a94_3          10 KB  conda-forge\n",
      "    h5py-3.3.0                 |nompi_py38h9915d05_100         1.4 MB  conda-forge\n",
      "    importlib_metadata-4.11.2  |       hd8ed1ab_0           4 KB  conda-forge\n",
      "    meshio-5.3.4               |     pyhd8ed1ab_0         436 KB  conda-forge\n",
      "    netcdf4-1.5.6              |nompi_py38hf887595_102         556 KB  conda-forge\n",
      "    rich-12.0.0                |     pyhd8ed1ab_0         158 KB  conda-forge\n",
      "    ------------------------------------------------------------\n",
      "                                           Total:         2.8 MB\n",
      "\n",
      "The following NEW packages will be INSTALLED:\n",
      "\n",
      "  cached-property    conda-forge/noarch::cached-property-1.5.2-hd8ed1ab_1\n",
      "  cached_property    conda-forge/noarch::cached_property-1.5.2-pyha770c72_1\n",
      "  cftime             conda-forge/linux-64::cftime-1.6.0-py38h3ec907f_0\n",
      "  colorama           conda-forge/noarch::colorama-0.4.4-pyh9f0ad1d_0\n",
      "  commonmark         conda-forge/noarch::commonmark-0.9.1-py_0\n",
      "  dataclasses        conda-forge/noarch::dataclasses-0.8-pyhc8e2a94_3\n",
      "  h5py               conda-forge/linux-64::h5py-3.3.0-nompi_py38h9915d05_100\n",
      "  importlib_metadata conda-forge/noarch::importlib_metadata-4.11.2-hd8ed1ab_0\n",
      "  meshio             conda-forge/noarch::meshio-5.3.4-pyhd8ed1ab_0\n",
      "  netcdf4            conda-forge/linux-64::netcdf4-1.5.6-nompi_py38hf887595_102\n",
      "  rich               conda-forge/noarch::rich-12.0.0-pyhd8ed1ab_0\n",
      "\n",
      "\n",
      "\n",
      "Downloading and Extracting Packages\n",
      "cftime-1.6.0         | 226 KB    | ##################################### | 100% \n",
      "dataclasses-0.8      | 10 KB     | ##################################### | 100% \n",
      "meshio-5.3.4         | 436 KB    | ##################################### | 100% \n",
      "colorama-0.4.4       | 18 KB     | ##################################### | 100% \n",
      "cached-property-1.5. | 4 KB      | ##################################### | 100% \n",
      "rich-12.0.0          | 158 KB    | ##################################### | 100% \n",
      "cached_property-1.5. | 11 KB     | ##################################### | 100% \n",
      "commonmark-0.9.1     | 46 KB     | ##################################### | 100% \n",
      "netcdf4-1.5.6        | 556 KB    | ##################################### | 100% \n",
      "h5py-3.3.0           | 1.4 MB    | ##################################### | 100% \n",
      "importlib_metadata-4 | 4 KB      | ##################################### | 100% \n",
      "Preparing transaction: done\n",
      "Verifying transaction: done\n",
      "Executing transaction: done\n"
     ]
    }
   ],
   "source": [
    "#!conda activate azureml_py38_PT_TF\n",
    "!conda install -c conda-forge vtk -n azureml_py38_PT_TF -y\n",
    "!conda install -c conda-forge pyvista -n azureml_py38_PT_TF -y\n",
    "!conda install -c conda-forge ipyvtklink -n azureml_py38_PT_TF -y\n",
    "!conda install -c conda-forge meshio -n azureml_py38_PT_TF -y"
   ]
  },
  {
   "cell_type": "code",
   "execution_count": 2,
   "metadata": {
    "gather": {
     "logged": 1647021894175
    },
    "jupyter": {
     "outputs_hidden": false,
     "source_hidden": false
    },
    "nteract": {
     "transient": {
      "deleting": false
     }
    }
   },
   "outputs": [
    {
     "data": {
      "application/vnd.jupyter.widget-view+json": {
       "model_id": "ef853d9f3f1540c2a7798ea9bd8e551e",
       "version_major": 2,
       "version_minor": 0
      },
      "text/plain": [
       "ViewInteractiveWidget(height=768, layout=Layout(height='auto', width='100%'), width=1024)"
      ]
     },
     "metadata": {},
     "output_type": "display_data"
    }
   ],
   "source": [
    "# All PyVista Samples here: https://docs.pyvista.org/examples/\n",
    "# Draw a uniform grid\n",
    "import pyvista as pv\n",
    "import numpy as np\n",
    "pv.start_xvfb()\n",
    "values = np.linspace(0, 10, 1000).reshape((20, 5, 10))\n",
    "values.shape\n",
    "\n",
    "# Create the spatial reference\n",
    "grid = pv.UniformGrid()\n",
    "\n",
    "# Set the grid dimensions: shape + 1 because we want to inject our values on\n",
    "#   the CELL data\n",
    "grid.dimensions = np.array(values.shape) + 1\n",
    "\n",
    "# Edit the spatial reference\n",
    "grid.origin = (100, 33, 55.6)  # The bottom left corner of the data set\n",
    "grid.spacing = (1, 5, 2)  # These are the cell sizes along each axis\n",
    "\n",
    "# Add the data values to the cell data\n",
    "grid.cell_data[\"values\"] = values.flatten(order=\"F\")  # Flatten the array!\n",
    "\n",
    "# Now plot the grid!\n",
    "grid.plot(show_edges=True)"
   ]
  },
  {
   "cell_type": "code",
   "execution_count": 3,
   "metadata": {},
   "outputs": [],
   "source": [
    "# Terrain mesh\n",
    "import numpy as np\n",
    "\n",
    "# sphinx_gallery_thumbnail_number = 3\n",
    "import pyvista as pv\n",
    "from pyvista import examples"
   ]
  },
  {
   "cell_type": "code",
   "execution_count": 4,
   "metadata": {},
   "outputs": [
    {
     "data": {
      "text/html": [
       "<table><tr><th>Header</th><th>Data Arrays</th></tr><tr><td>\n",
       "<table>\n",
       "<tr><th>UniformGrid</th><th>Information</th></tr>\n",
       "<tr><td>N Cells</td><td>1677401</td></tr>\n",
       "<tr><td>N Points</td><td>1680000</td></tr>\n",
       "<tr><td>X Bounds</td><td>1.810e+06, 1.831e+06</td></tr>\n",
       "<tr><td>Y Bounds</td><td>5.640e+06, 5.658e+06</td></tr>\n",
       "<tr><td>Z Bounds</td><td>0.000e+00, 0.000e+00</td></tr>\n",
       "<tr><td>Dimensions</td><td>1400, 1200, 1</td></tr>\n",
       "<tr><td>Spacing</td><td>1.500e+01, 1.500e+01, 0.000e+00</td></tr>\n",
       "<tr><td>N Arrays</td><td>1</td></tr>\n",
       "</table>\n",
       "\n",
       "</td><td>\n",
       "<table>\n",
       "<tr><th>Name</th><th>Field</th><th>Type</th><th>N Comp</th><th>Min</th><th>Max</th></tr>\n",
       "<tr><td><b>scalar1of1</b></td><td>Points</td><td>float64</td><td>1</td><td>7.339e+02</td><td>2.787e+03</td></tr>\n",
       "</table>\n",
       "\n",
       "</td></tr> </table>"
      ],
      "text/plain": [
       "UniformGrid (0x7f6bb40d8ca0)\n",
       "  N Cells:\t1677401\n",
       "  N Points:\t1680000\n",
       "  X Bounds:\t1.810e+06, 1.831e+06\n",
       "  Y Bounds:\t5.640e+06, 5.658e+06\n",
       "  Z Bounds:\t0.000e+00, 0.000e+00\n",
       "  Dimensions:\t1400, 1200, 1\n",
       "  Spacing:\t1.500e+01, 1.500e+01, 0.000e+00\n",
       "  N Arrays:\t1"
      ]
     },
     "execution_count": 4,
     "metadata": {},
     "output_type": "execute_result"
    }
   ],
   "source": [
    "dem = examples.download_crater_topo()\n",
    "dem\n"
   ]
  },
  {
   "cell_type": "code",
   "execution_count": 5,
   "metadata": {},
   "outputs": [
    {
     "data": {
      "application/vnd.jupyter.widget-view+json": {
       "model_id": "4c542b3425b0466a954ef3f885897b94",
       "version_major": 2,
       "version_minor": 0
      },
      "text/plain": [
       "ViewInteractiveWidget(height=768, layout=Layout(height='auto', width='100%'), width=1024)"
      ]
     },
     "metadata": {},
     "output_type": "display_data"
    }
   ],
   "source": [
    "subset = dem.extract_subset((500, 900, 400, 800, 0, 0), (5,5,1))\n",
    "subset.plot(cpos=\"xy\")"
   ]
  },
  {
   "cell_type": "code",
   "execution_count": 6,
   "metadata": {},
   "outputs": [
    {
     "data": {
      "application/vnd.jupyter.widget-view+json": {
       "model_id": "c19148c474654dde993de023fa55d2e2",
       "version_major": 2,
       "version_minor": 0
      },
      "text/plain": [
       "ViewInteractiveWidget(height=768, layout=Layout(height='auto', width='100%'), width=1024)"
      ]
     },
     "metadata": {},
     "output_type": "display_data"
    }
   ],
   "source": [
    "terrain = subset.warp_by_scalar()\n",
    "terrain\n",
    "terrain.plot()"
   ]
  },
  {
   "cell_type": "code",
   "execution_count": 7,
   "metadata": {},
   "outputs": [],
   "source": [
    "# sphinx_gallery_thumbnail_number = 2\n",
    "import pyvista as pv\n",
    "from pyvista import examples\n",
    "\n",
    "# Load St Helens DEM and warp the topography\n",
    "image = examples.download_st_helens()\n",
    "mesh = image.warp_by_scalar()"
   ]
  },
  {
   "cell_type": "code",
   "execution_count": 9,
   "metadata": {},
   "outputs": [
    {
     "data": {
      "application/vnd.jupyter.widget-view+json": {
       "model_id": "750df685708c42128834c1aca0986c5e",
       "version_major": 2,
       "version_minor": 0
      },
      "text/plain": [
       "ViewInteractiveWidget(height=768, layout=Layout(height='auto', width='100%'), width=1024)"
      ]
     },
     "metadata": {},
     "output_type": "display_data"
    }
   ],
   "source": [
    "p = pv.Plotter()\n",
    "p.add_mesh(image.contour(), line_width=5,)\n",
    "p.add_mesh(mesh, opacity=0.85, color=True)\n",
    "p.show()"
   ]
  },
  {
   "cell_type": "code",
   "execution_count": 15,
   "metadata": {},
   "outputs": [
    {
     "data": {
      "application/vnd.jupyter.widget-view+json": {
       "model_id": "acc1652747094b24a1bd5a8c7038d16d",
       "version_major": 2,
       "version_minor": 0
      },
      "text/plain": [
       "ViewInteractiveWidget(height=768, layout=Layout(height='auto', width='100%'), width=1024)"
      ]
     },
     "metadata": {},
     "output_type": "display_data"
    }
   ],
   "source": [
    "mesh.plot(opacity=\"linear\")\n"
   ]
  },
  {
   "cell_type": "code",
   "execution_count": null,
   "metadata": {},
   "outputs": [],
   "source": [
    "# formats that we can read data\n",
    "# https://docs.pyvista.org/api/utilities/_autosummary/pyvista.read.html?highlight=meshio#\n",
    "\n",
    "# mesh :\"https://github.com/nschloe/meshio\n",
    "# pv.read()\n"
   ]
  }
 ],
 "metadata": {
  "kernel_info": {
   "name": "azureml_py38_pt_tf"
  },
  "kernelspec": {
   "display_name": "Python 3.8 - Pytorch and Tensorflow",
   "language": "python",
   "name": "azureml_py38_pt_tf"
  },
  "language_info": {
   "codemirror_mode": {
    "name": "ipython",
    "version": 3
   },
   "file_extension": ".py",
   "mimetype": "text/x-python",
   "name": "python",
   "nbconvert_exporter": "python",
   "pygments_lexer": "ipython3",
   "version": "3.8.1"
  },
  "nteract": {
   "version": "nteract-front-end@1.0.0"
  }
 },
 "nbformat": 4,
 "nbformat_minor": 1
}
