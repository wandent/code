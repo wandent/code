{
  "cells": [
    {
      "cell_type": "code",
      "source": [
        "!conda install -c plotly plotly=5.6.0 -n azureml_py38_PT_TF -y\n",
        "!conda install \"notebook>=5.3\" \"ipywidgets>=7.5\" -n azureml_py38_PT_TF -y"
      ],
      "outputs": [
        {
          "output_type": "stream",
          "name": "stdout",
          "text": "Collecting package metadata (current_repodata.json): - \b\b\\ \b\b| \b\b/ \b\b- \b\b\\ \b\b| \b\b/ \b\b- \b\bdone\nSolving environment: | \b\b/ \b\b- \b\b\\ \b\b| \b\b/ \b\b- \b\b\\ \b\b| \b\b/ \b\b- \b\b\\ \b\b| \b\b/ \b\b- \b\b\\ \b\b| \b\b/ \b\b- \b\b\\ \b\bdone\n\n## Package Plan ##\n\n  environment location: /anaconda/envs/azureml_py38_PT_TF\n\n  added / updated specs:\n    - plotly=5.6.0\n\n\nThe following packages will be downloaded:\n\n    package                    |            build\n    ---------------------------|-----------------\n    certifi-2021.10.8          |   py38h06a4308_2         152 KB\n    openssl-1.1.1n             |       h7f8727e_0         2.5 MB\n    plotly-5.6.0               |             py_0         6.9 MB  plotly\n    tenacity-8.0.1             |   py38h06a4308_0          38 KB\n    ------------------------------------------------------------\n                                           Total:         9.6 MB\n\nThe following NEW packages will be INSTALLED:\n\n  plotly             plotly/noarch::plotly-5.6.0-py_0\n  tenacity           pkgs/main/linux-64::tenacity-8.0.1-py38h06a4308_0\n\nThe following packages will be UPDATED:\n\n  ca-certificates    conda-forge::ca-certificates-2021.10.~ --> pkgs/main::ca-certificates-2022.2.1-h06a4308_0\n  certifi            conda-forge::certifi-2021.10.8-py38h5~ --> pkgs/main::certifi-2021.10.8-py38h06a4308_2\n  openssl            conda-forge::openssl-1.1.1l-h7f98852_0 --> pkgs/main::openssl-1.1.1n-h7f8727e_0\n\n\n\nDownloading and Extracting Packages\nopenssl-1.1.1n       | 2.5 MB    | ##################################### | 100% \nplotly-5.6.0         | 6.9 MB    | ##################################### | 100% \ncertifi-2021.10.8    | 152 KB    | ##################################### | 100% \ntenacity-8.0.1       | 38 KB     | ##################################### | 100% \nPreparing transaction: / \b\b- \b\b\\ \b\b| \b\b/ \b\b- \b\bdone\nVerifying transaction: | \b\b/ \b\b- \b\b\\ \b\b| \b\b/ \b\b- \b\b\\ \b\b| \b\b/ \b\b- \b\b\\ \b\b| \b\b/ \b\b- \b\b\\ \b\b| \b\b/ \b\b- \b\b\\ \b\b| \b\b/ \b\b- \b\b\\ \b\b| \b\b/ \b\b- \b\b\\ \b\b| \b\b/ \b\b- \b\b\\ \b\b| \b\b/ \b\b- \b\b\\ \b\b| \b\b/ \b\b- \b\b\\ \b\b| \b\b/ \b\b- \b\b\\ \b\b| \b\b/ \b\b- \b\b\\ \b\b| \b\b/ \b\b- \b\b\\ \b\b| \b\b/ \b\b- \b\b\\ \b\b| \b\b/ \b\b- \b\b\\ \b\b| \b\b/ \b\b- \b\b\\ \b\b| \b\b/ \b\b- \b\b\\ \b\b| \b\b/ \b\b- \b\b\\ \b\b| \b\b/ \b\b- \b\b\\ \b\b| \b\b/ \b\b- \b\b\\ \b\b| \b\b/ \b\b- \b\b\\ \b\b| \b\b/ \b\b- \b\b\\ \b\b| \b\b/ \b\b- \b\b\\ \b\b| \b\b/ \b\b- \b\b\\ \b\b| \b\b/ \b\b- \b\b\\ \b\b| \b\b/ \b\b- \b\b\\ \b\b| \b\b/ \b\b- \b\b\\ \b\b| \b\b/ \b\b- \b\b\\ \b\b| \b\b/ \b\b- \b\b\\ \b\b| \b\b/ \b\b- \b\b\\ \b\b| \b\b/ \b\b- \b\b\\ \b\b| \b\b/ \b\b- \b\b\\ \b\b| \b\b/ \b\b- \b\b\\ \b\b| \b\b/ \b\b- \b\b\\ \b\b| \b\b/ \b\b- \b\b\\ \b\b| \b\b/ \b\bdone\nExecuting transaction: \\ \b\b| \b\b/ \b\b- \b\b\\ \b\b| \b\b/ \b\b- \b\b\\ \b\b| \b\b/ \b\b- \b\b\\ \b\b| \b\b/ \b\b- \b\b\\ \b\b| \b\b/ \b\b- \b\b\\ \b\b| \b\b/ \b\b- \b\b\\ \b\b| \b\b/ \b\b- \b\b\\ \b\b| \b\b/ \b\b- \b\b\\ \b\b| \b\b/ \b\b- \b\b\\ \b\b| \b\b/ \b\b- \b\b\\ \b\b| \b\b/ \b\b- \b\b\\ \b\b| \b\b/ \b\b- \b\b\\ \b\b| \b\b/ \b\b- \b\b\\ \b\b| \b\b/ \b\b- \b\b\\ \b\b| \b\b/ \b\b- \b\b\\ \b\b| \b\b/ \b\b- \b\b\\ \b\b| \b\b/ \b\b- \b\b\\ \b\b| \b\b/ \b\b- \b\b\\ \b\b| \b\b/ \b\b- \b\b\\ \b\b| \b\b/ \b\b- \b\b\\ \b\b| \b\b/ \b\b- \b\b\\ \b\b| \b\b/ \b\b- \b\b\\ \b\b| \b\b/ \b\b- \b\b\\ \b\b| \b\b/ \b\b- \b\b\\ \b\b| \b\b/ \b\b- \b\b\\ \b\b| \b\b/ \b\b- \b\b\\ \b\b| \b\b/ \b\b- \b\b\\ \b\b| \b\b/ \b\b- \b\b\\ \b\b| \b\b/ \b\b- \b\b\\ \b\b| \b\b/ \b\b- \b\b\\ \b\b| \b\b/ \b\b- \b\b\\ \b\b| \b\b/ \b\b- \b\b\\ \b\b| \b\b/ \b\b- \b\b\\ \b\b| \b\b/ \b\b- \b\b\\ \b\b| \b\b/ \b\b- \b\b\\ \b\b| \b\b/ \b\b- \b\b\\ \b\b| \b\b/ \b\b- \b\b\\ \b\b| \b\b/ \b\b- \b\b\\ \b\b| \b\b/ \b\b- \b\b\\ \b\b| \b\b/ \b\b- \b\b\\ \b\b| \b\b/ \b\b- \b\b\\ \b\b| \b\b/ \b\b- \b\b\\ \b\b| \b\b/ \b\b- \b\b\\ \b\b| \b\b/ \b\b- \b\b\\ \b\b| \b\b/ \b\b- \b\b\\ \b\b| \b\b/ \b\b- \b\b\\ \b\b| \b\b/ \b\b- \b\b\\ \b\b| \b\b/ \b\b- \b\b\\ \b\b| \b\b/ \b\b- \b\b\\ \b\b| \b\b/ \b\b- \b\b\\ \b\b| \b\b/ \b\b- \b\b\\ \b\b| \b\b/ \b\b- \b\b\\ \b\b| \b\b/ \b\b- \b\b\\ \b\b| \b\b/ \b\b- \b\b\\ \b\b| \b\b/ \b\b- \b\b\\ \b\b| \b\b/ \b\b- \b\b\\ \b\b| "
        }
      ],
      "execution_count": 3,
      "metadata": {}
    },
    {
      "cell_type": "code",
      "source": [
        "import plotly.graph_objects as go\n",
        "from plotly.subplots import make_subplots\n",
        "\n",
        "import numpy as np\n",
        "\n",
        "# Initialize figure with 4 3D subplots\n",
        "fig = make_subplots(\n",
        "    rows=2, cols=2,\n",
        "    specs=[[{'type': 'surface'}, {'type': 'surface'}],\n",
        "           [{'type': 'surface'}, {'type': 'surface'}]])\n",
        "\n",
        "# Generate data\n",
        "x = np.linspace(-5, 80, 10)\n",
        "y = np.linspace(-5, 60, 10)\n",
        "xGrid, yGrid = np.meshgrid(y, x)\n",
        "z = xGrid ** 3 + yGrid ** 3\n",
        "\n",
        "# adding surfaces to subplots.\n",
        "fig.add_trace(\n",
        "    go.Surface(x=x, y=y, z=z, colorscale='Viridis', showscale=False),\n",
        "    row=1, col=1)\n",
        "\n",
        "fig.add_trace(\n",
        "    go.Surface(x=x, y=y, z=z, colorscale='RdBu', showscale=False),\n",
        "    row=1, col=2)\n",
        "\n",
        "fig.add_trace(\n",
        "    go.Surface(x=x, y=y, z=z, colorscale='YlOrRd', showscale=False),\n",
        "    row=2, col=1)\n",
        "\n",
        "fig.add_trace(\n",
        "    go.Surface(x=x, y=y, z=z, colorscale='YlGnBu', showscale=False),\n",
        "    row=2, col=2)\n",
        "\n",
        "fig.update_layout(\n",
        "    title_text='3D subplots with different colorscales',\n",
        "    height=800,\n",
        "    width=800\n",
        ")\n",
        "\n",
        "fig.show()"
      ],
      "outputs": [
        {
          "output_type": "stream",
          "name": "stdout",
          "text": "# conda environments:\r\n#\r\nbase                  *  /anaconda\r\nazureml_py36             /anaconda/envs/azureml_py36\r\nazureml_py38             /anaconda/envs/azureml_py38\r\nazureml_py38_PT_TF       /anaconda/envs/azureml_py38_PT_TF\r\n\r\n"
        }
      ],
      "execution_count": 2,
      "metadata": {
        "jupyter": {
          "source_hidden": false,
          "outputs_hidden": false
        },
        "nteract": {
          "transient": {
            "deleting": false
          }
        }
      }
    },
    {
      "cell_type": "code",
      "source": [],
      "outputs": [],
      "execution_count": null,
      "metadata": {
        "jupyter": {
          "source_hidden": false,
          "outputs_hidden": false
        },
        "nteract": {
          "transient": {
            "deleting": false
          }
        }
      }
    }
  ],
  "metadata": {
    "kernelspec": {
      "name": "azureml_py38_pt_tf",
      "language": "python",
      "display_name": "Python 3.8 - Pytorch and Tensorflow"
    },
    "language_info": {
      "name": "python",
      "version": "3.8.1",
      "mimetype": "text/x-python",
      "codemirror_mode": {
        "name": "ipython",
        "version": 3
      },
      "pygments_lexer": "ipython3",
      "nbconvert_exporter": "python",
      "file_extension": ".py"
    },
    "kernel_info": {
      "name": "azureml_py38_pt_tf"
    },
    "nteract": {
      "version": "nteract-front-end@1.0.0"
    }
  },
  "nbformat": 4,
  "nbformat_minor": 0
}